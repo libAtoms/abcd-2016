{
 "cells": [
  {
   "cell_type": "markdown",
   "metadata": {},
   "source": [
    "# Getting `ase.db` to do what we want\n",
    "\n",
    "James Kermode, June 2015\n",
    "\n",
    "The [ASE database module](https://wiki.fysik.dtu.dk/ase/ase/db/db.html) is a lightweight way to store atomic configurations. However, it doesn't yet support all the features we would like, namely:\n",
    "\n",
    " * No support for storing original output files from calculations along with records\n",
    " * No command line tool for extracting configurations to files\n",
    " * No easy way to include arbitrary per-frame and per-atom data\n",
    "\n",
    "I've extended `ase.db.core.Database.write()`, `ase.db.row.AtomsRow.toatoms()` to allow all data to be read from the `Atoms.info` and `Atoms.arrays` dictionaries, and added some new command line options to `ase-db` to do what we need:\n",
    "\n",
    " * `-o/--store-original-file` - attach original input to database record as a string in the `data` section\n",
    " * `-x/--extract-original-file` - attach original input to database record as a string in the `data` section\n",
    "\n",
    " * `-W/--write-to-file [type]:filename` - write rows matching a query to files, optionallly specifiying format\n",
    " * `-A/--all-data` - include contents of `atoms.info` (per-frame dictionary) and `atoms.arrays` (per-atom dictionary) in database records"
   ]
  },
  {
   "cell_type": "markdown",
   "metadata": {},
   "source": [
    "## Generate some dummy data"
   ]
  },
  {
   "cell_type": "code",
   "execution_count": 0,
   "metadata": {
    "collapsed": false
   },
   "outputs": [],
   "source": [
    "import glob\n",
    "import numpy as np\n",
    "from ase.io import read, write\n",
    "from ase.lattice import bulk\n",
    "from ase.calculators.singlepoint import SinglePointCalculator\n",
    "\n",
    "N = 10\n",
    "\n",
    "!rm dump*.xyz dump*.cif\n",
    "for i in range(N):\n",
    "    atoms = bulk('Si', crystalstructure='diamond', a=5.43, cubic=True)\n",
    "    atoms.rattle()\n",
    "\n",
    "    # simulate a calculation with random results\n",
    "    e = np.random.uniform()\n",
    "    f = np.random.uniform(size=3*len(atoms)).reshape((len(atoms), 3))\n",
    "    s = np.random.uniform(size=9).reshape((3, 3))\n",
    "    calc = SinglePointCalculator(atoms, energy=e, forces=f, stress=s)\n",
    "    atoms.set_calculator(calc)\n",
    "    f = atoms.get_forces()\n",
    "    e = atoms.get_potential_energy()\n",
    "\n",
    "    # add some arbitrary data\n",
    "    atoms.info['integer_info'] = 42\n",
    "    atoms.info['real_info'] = 217\n",
    "    atoms.info['config_type'] = 'diamond'\n",
    "    atoms.new_array('array_data', np.ones_like(atoms.numbers))\n",
    "\n",
    "    atoms.write('dump_%03d.xyz' % i, format='extxyz')"
   ]
  },
  {
   "cell_type": "markdown",
   "metadata": {},
   "source": [
    "## Make a `.db` file and add our `.xyz` files, attaching original files with `-o`"
   ]
  },
  {
   "cell_type": "code",
   "execution_count": 0,
   "metadata": {
    "collapsed": false
   },
   "outputs": [],
   "source": [
    "!rm -f tmp.db\n",
    "for addfile in glob.glob(\"dump*.xyz\"):\n",
    "    !ase-db tmp.db -Aoa $addfile"
   ]
  },
  {
   "cell_type": "code",
   "execution_count": 0,
   "metadata": {
    "collapsed": false
   },
   "outputs": [],
   "source": [
    "!ase-db tmp.db"
   ]
  },
  {
   "cell_type": "markdown",
   "metadata": {},
   "source": [
    "## Extract records from database in various file formats\n",
    "\n",
    "* First, let's dump record #1 in `POSCAR` format"
   ]
  },
  {
   "cell_type": "code",
   "execution_count": 0,
   "metadata": {
    "collapsed": false
   },
   "outputs": [],
   "source": [
    "!ase-db tmp.db 1 -W vasp:-"
   ]
  },
  {
   "cell_type": "markdown",
   "metadata": {},
   "source": [
    "* Now, we extract the same record in extended XYZ format, including all the additional data (`-A` option)"
   ]
  },
  {
   "cell_type": "code",
   "execution_count": 0,
   "metadata": {
    "collapsed": false
   },
   "outputs": [],
   "source": [
    "!ase-db tmp.db 1 -AW -"
   ]
  },
  {
   "cell_type": "markdown",
   "metadata": {},
   "source": [
    " * A more complicated query - we extract all configs with `energy<0.7` and write to separate CIF files"
   ]
  },
  {
   "cell_type": "code",
   "execution_count": 0,
   "metadata": {
    "collapsed": false
   },
   "outputs": [],
   "source": [
    "!ase-db tmp.db 'energy>0.7' -W dump_%02d.cif\n",
    "!ls dump*.cif"
   ]
  },
  {
   "cell_type": "markdown",
   "metadata": {},
   "source": [
    "## Recover original files with `-x` argument"
   ]
  },
  {
   "cell_type": "code",
   "execution_count": 0,
   "metadata": {
    "collapsed": false
   },
   "outputs": [],
   "source": [
    "!rm -f dump*.xyz\n",
    "!ase-db tmp.db -x\n",
    "!ls dump*.xyz\n",
    "!cat dump_000.xyz"
   ]
  },
  {
   "cell_type": "markdown",
   "metadata": {},
   "source": [
    "## Access via the Python API"
   ]
  },
  {
   "cell_type": "code",
   "execution_count": 0,
   "metadata": {
    "collapsed": false
   },
   "outputs": [],
   "source": [
    "from ase.db import connect\n",
    "con = connect('tmp.db')\n",
    "for row in con.select('id=1'):\n",
    "    atoms = row.toatoms(add_to_info_and_arrays=True)\n",
    "    print atoms, 'original_file', atoms.info['original_file_name']"
   ]
  }
 ],
 "metadata": {
  "kernelspec": {
   "display_name": "Python 2",
   "language": "python",
   "name": "python2"
  },
  "language_info": {
   "codemirror_mode": {
    "name": "ipython",
    "version": 2
   },
   "file_extension": ".py",
   "mimetype": "text/x-python",
   "name": "python",
   "nbconvert_exporter": "python",
   "pygments_lexer": "ipython2",
   "version": "2.7.10"
  }
 },
 "nbformat": 4,
 "nbformat_minor": 0
}
