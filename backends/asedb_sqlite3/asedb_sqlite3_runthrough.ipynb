{
 "cells": [
  {
   "cell_type": "markdown",
   "metadata": {},
   "source": [
    "# ASEdb-SQLite3 backend example"
   ]
  },
  {
   "cell_type": "code",
   "execution_count": 3,
   "metadata": {
    "collapsed": false
   },
   "outputs": [],
   "source": [
    "import numpy as np\n",
    "from ase.lattice import bulk\n",
    "from ase.calculators.singlepoint import SinglePointCalculator\n",
    "from ase.db.row import atoms2dict\n",
    "\n",
    "from abcd.structurebox import StructureBox\n",
    "from abcd.authentication import Credentials\n",
    "import asedb_sqlite3_backend.asedb_sqlite3_backend as asedb_sqlite3_backend"
   ]
  },
  {
   "cell_type": "markdown",
   "metadata": {},
   "source": [
    "###Establish the connection to the backend, generate random configurations and insert them to the database."
   ]
  },
  {
   "cell_type": "code",
   "execution_count": 4,
   "metadata": {
    "collapsed": false
   },
   "outputs": [],
   "source": [
    "!rm ~/databases/all/test.db\n",
    "box = StructureBox(asedb_sqlite3_backend.ASEdbSQlite3Backend(database='test.db', user=None))\n",
    "token = box.authenticate(Credentials(None))\n",
    "\n",
    "N = 10\n",
    "for i in range(N):\n",
    "    atoms = bulk('Si', crystalstructure='diamond', a=5.43, cubic=True)\n",
    "    atoms.rattle()\n",
    "\n",
    "    # simulate a calculation with random results\n",
    "    e = np.random.uniform()\n",
    "    f = np.random.uniform(size=3*len(atoms)).reshape((len(atoms), 3))\n",
    "    s = np.random.uniform(size=9).reshape((3, 3))\n",
    "    calc = SinglePointCalculator(atoms, energy=e, forces=f, stress=s)\n",
    "    atoms.set_calculator(calc)\n",
    "    f = atoms.get_forces()\n",
    "    e = atoms.get_potential_energy()\n",
    "\n",
    "    # add some arbitrary data\n",
    "    atoms.info['integer_info'] = 42\n",
    "    atoms.info['real_info'] = 217\n",
    "    atoms.info['config_type'] = 'diamond'\n",
    "    atoms.new_array('array_data', np.ones_like(atoms.numbers))\n",
    "    \n",
    "    box.insert(token, atoms)"
   ]
  },
  {
   "cell_type": "markdown",
   "metadata": {},
   "source": [
    "### Use ase-db to display the created database"
   ]
  },
  {
   "cell_type": "code",
   "execution_count": 5,
   "metadata": {
    "collapsed": false,
    "scrolled": true
   },
   "outputs": [
    {
     "name": "stdout",
     "output_type": "stream",
     "text": [
      "id|age|user   |formula|calculator|energy| fmax|pbc| volume|charge|   mass| smax|real_info|integer_info|config_type\r\n",
      " 1| 2s|patrick|Si8    |unknown   | 0.422|1.495|TTT|160.103| 0.000|224.684|0.860|      217|          42|diamond    \r\n",
      " 2| 2s|patrick|Si8    |unknown   | 0.045|1.340|TTT|160.103| 0.000|224.684|0.890|      217|          42|diamond    \r\n",
      " 3| 2s|patrick|Si8    |unknown   | 0.956|1.220|TTT|160.103| 0.000|224.684|0.791|      217|          42|diamond    \r\n",
      " 4| 2s|patrick|Si8    |unknown   | 0.212|1.153|TTT|160.103| 0.000|224.684|0.963|      217|          42|diamond    \r\n",
      " 5| 2s|patrick|Si8    |unknown   | 0.949|1.189|TTT|160.103| 0.000|224.684|0.930|      217|          42|diamond    \r\n",
      " 6| 2s|patrick|Si8    |unknown   | 0.065|1.272|TTT|160.103| 0.000|224.684|0.908|      217|          42|diamond    \r\n",
      " 7| 2s|patrick|Si8    |unknown   | 0.914|1.488|TTT|160.103| 0.000|224.684|0.985|      217|          42|diamond    \r\n",
      " 8| 2s|patrick|Si8    |unknown   | 0.720|1.468|TTT|160.103| 0.000|224.684|0.939|      217|          42|diamond    \r\n",
      " 9| 2s|patrick|Si8    |unknown   | 0.414|1.455|TTT|160.103| 0.000|224.684|0.944|      217|          42|diamond    \r\n",
      "10| 2s|patrick|Si8    |unknown   | 0.740|1.389|TTT|160.103| 0.000|224.684|0.819|      217|          42|diamond    \r\n",
      "Rows: 10\r\n",
      "Keys: config_type, integer_info, real_info\r\n"
     ]
    }
   ],
   "source": [
    "!ase-db ~/databases/all/test.db -c ++"
   ]
  },
  {
   "cell_type": "markdown",
   "metadata": {},
   "source": [
    "###Query the database and get Atoms objects back"
   ]
  },
  {
   "cell_type": "code",
   "execution_count": 6,
   "metadata": {
    "collapsed": false
   },
   "outputs": [
    {
     "name": "stdout",
     "output_type": "stream",
     "text": [
      "Atoms(symbols='Si8', array_data=..., positions=..., cell=[5.43, 5.43, 5.43], pbc=[True, True, True], calculator=SinglePointCalculator(...))\n",
      "Atoms(symbols='Si8', array_data=..., positions=..., cell=[5.43, 5.43, 5.43], pbc=[True, True, True], calculator=SinglePointCalculator(...))\n",
      "Atoms(symbols='Si8', array_data=..., positions=..., cell=[5.43, 5.43, 5.43], pbc=[True, True, True], calculator=SinglePointCalculator(...))\n",
      "Atoms(symbols='Si8', array_data=..., positions=..., cell=[5.43, 5.43, 5.43], pbc=[True, True, True], calculator=SinglePointCalculator(...))\n",
      "Atoms(symbols='Si8', array_data=..., positions=..., cell=[5.43, 5.43, 5.43], pbc=[True, True, True], calculator=SinglePointCalculator(...))\n",
      "\n",
      "Found 5 structures\n"
     ]
    }
   ],
   "source": [
    "count = 0\n",
    "for i in box.find(token, 'energy>0.5'):\n",
    "    print(i)\n",
    "    count += 1\n",
    "print '\\nFound', count, 'structures'"
   ]
  },
  {
   "cell_type": "markdown",
   "metadata": {},
   "source": [
    "### Copy all atoms with id greater than 7"
   ]
  },
  {
   "cell_type": "code",
   "execution_count": 7,
   "metadata": {
    "collapsed": false
   },
   "outputs": [
    {
     "name": "stdout",
     "output_type": "stream",
     "text": [
      "Copied 3 structures\n"
     ]
    }
   ],
   "source": [
    "# Copy all Atoms structures with id greater than 7\n",
    "atoms_it = box.find(token, 'id>7')\n",
    "atoms = [at for at in atoms_it]\n",
    "print 'Copied', len(atoms), 'structures'"
   ]
  },
  {
   "cell_type": "markdown",
   "metadata": {},
   "source": [
    "### Delete them from the database"
   ]
  },
  {
   "cell_type": "code",
   "execution_count": 8,
   "metadata": {
    "collapsed": false
   },
   "outputs": [
    {
     "name": "stdout",
     "output_type": "stream",
     "text": [
      "Deleted 3 rows\n"
     ]
    }
   ],
   "source": [
    "res = box.remove(token, 'id>7', just_one=False)\n",
    "print res.msg"
   ]
  },
  {
   "cell_type": "code",
   "execution_count": 9,
   "metadata": {
    "collapsed": false
   },
   "outputs": [
    {
     "name": "stdout",
     "output_type": "stream",
     "text": [
      "id|age|user   |formula|calculator|energy| fmax|pbc| volume|charge|   mass| smax|real_info|integer_info|config_type\r\n",
      " 1| 5s|patrick|Si8    |unknown   | 0.422|1.495|TTT|160.103| 0.000|224.684|0.860|      217|          42|diamond    \r\n",
      " 2| 5s|patrick|Si8    |unknown   | 0.045|1.340|TTT|160.103| 0.000|224.684|0.890|      217|          42|diamond    \r\n",
      " 3| 5s|patrick|Si8    |unknown   | 0.956|1.220|TTT|160.103| 0.000|224.684|0.791|      217|          42|diamond    \r\n",
      " 4| 5s|patrick|Si8    |unknown   | 0.212|1.153|TTT|160.103| 0.000|224.684|0.963|      217|          42|diamond    \r\n",
      " 5| 5s|patrick|Si8    |unknown   | 0.949|1.189|TTT|160.103| 0.000|224.684|0.930|      217|          42|diamond    \r\n",
      " 6| 5s|patrick|Si8    |unknown   | 0.065|1.272|TTT|160.103| 0.000|224.684|0.908|      217|          42|diamond    \r\n",
      " 7| 5s|patrick|Si8    |unknown   | 0.914|1.488|TTT|160.103| 0.000|224.684|0.985|      217|          42|diamond    \r\n",
      "Rows: 7\r\n",
      "Keys: config_type, integer_info, real_info\r\n"
     ]
    }
   ],
   "source": [
    "!ase-db ~/databases/all/test.db -c ++"
   ]
  },
  {
   "cell_type": "markdown",
   "metadata": {},
   "source": [
    "### Insert the copies back into the database"
   ]
  },
  {
   "cell_type": "code",
   "execution_count": 10,
   "metadata": {
    "collapsed": false
   },
   "outputs": [
    {
     "name": "stdout",
     "output_type": "stream",
     "text": [
      "Inserted 3 configurations at ids [11, 12, 13]\n"
     ]
    }
   ],
   "source": [
    "res = box.insert(token, atoms)\n",
    "print res.msg, 'at ids', res.inserted_ids"
   ]
  },
  {
   "cell_type": "code",
   "execution_count": 11,
   "metadata": {
    "collapsed": false
   },
   "outputs": [
    {
     "name": "stdout",
     "output_type": "stream",
     "text": [
      "id|age|user   |formula|calculator|energy| fmax|pbc| volume|charge|   mass| smax|real_info|integer_info|config_type\r\n",
      " 1| 7s|patrick|Si8    |unknown   | 0.422|1.495|TTT|160.103| 0.000|224.684|0.860|      217|          42|diamond    \r\n",
      " 2| 7s|patrick|Si8    |unknown   | 0.045|1.340|TTT|160.103| 0.000|224.684|0.890|      217|          42|diamond    \r\n",
      " 3| 7s|patrick|Si8    |unknown   | 0.956|1.220|TTT|160.103| 0.000|224.684|0.791|      217|          42|diamond    \r\n",
      " 4| 7s|patrick|Si8    |unknown   | 0.212|1.153|TTT|160.103| 0.000|224.684|0.963|      217|          42|diamond    \r\n",
      " 5| 7s|patrick|Si8    |unknown   | 0.949|1.189|TTT|160.103| 0.000|224.684|0.930|      217|          42|diamond    \r\n",
      " 6| 7s|patrick|Si8    |unknown   | 0.065|1.272|TTT|160.103| 0.000|224.684|0.908|      217|          42|diamond    \r\n",
      " 7| 7s|patrick|Si8    |unknown   | 0.914|1.488|TTT|160.103| 0.000|224.684|0.985|      217|          42|diamond    \r\n",
      "11| 1s|patrick|Si8    |unknown   | 0.720|1.468|TTT|160.103| 0.000|224.684|0.939|      217|          42|diamond    \r\n",
      "12| 1s|patrick|Si8    |unknown   | 0.414|1.455|TTT|160.103| 0.000|224.684|0.944|      217|          42|diamond    \r\n",
      "13| 1s|patrick|Si8    |unknown   | 0.740|1.389|TTT|160.103| 0.000|224.684|0.819|      217|          42|diamond    \r\n",
      "Rows: 10\r\n",
      "Keys: config_type, integer_info, real_info\r\n"
     ]
    }
   ],
   "source": [
    "!ase-db ~/databases/all/test.db -c ++"
   ]
  },
  {
   "cell_type": "code",
   "execution_count": null,
   "metadata": {
    "collapsed": true
   },
   "outputs": [],
   "source": []
  }
 ],
 "metadata": {
  "kernelspec": {
   "display_name": "Python 2",
   "language": "python",
   "name": "python2"
  },
  "language_info": {
   "codemirror_mode": {
    "name": "ipython",
    "version": 2
   },
   "file_extension": ".py",
   "mimetype": "text/x-python",
   "name": "python",
   "nbconvert_exporter": "python",
   "pygments_lexer": "ipython2",
   "version": "2.7.6"
  }
 },
 "nbformat": 4,
 "nbformat_minor": 0
}
