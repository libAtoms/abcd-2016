{
 "cells": [
  {
   "cell_type": "markdown",
   "metadata": {},
   "source": [
    "# ASEdb-SQLite3 backend example"
   ]
  },
  {
   "cell_type": "code",
   "execution_count": 10,
   "metadata": {
    "collapsed": false
   },
   "outputs": [],
   "source": [
    "import numpy as np\n",
    "from ase.lattice import bulk\n",
    "from ase.calculators.singlepoint import SinglePointCalculator\n",
    "from ase.db.row import atoms2dict\n",
    "\n",
    "from abcd.structurebox import StructureBox\n",
    "from abcd.authentication import Credentials\n",
    "import asedb_sqlite3_backend.asedb_sqlite3_backend as asedb_sqlite3_backend"
   ]
  },
  {
   "cell_type": "code",
   "execution_count": 36,
   "metadata": {
    "collapsed": true
   },
   "outputs": [],
   "source": [
    "db = 'test.db'"
   ]
  },
  {
   "cell_type": "markdown",
   "metadata": {},
   "source": [
    "###Establish the connection to the backend, generate random configurations and insert them to the database."
   ]
  },
  {
   "cell_type": "code",
   "execution_count": 37,
   "metadata": {
    "collapsed": false
   },
   "outputs": [],
   "source": [
    "!rm ~/databases/all/test.db\n",
    "box = StructureBox(asedb_sqlite3_backend.ASEdbSQlite3Backend(database=db, user=None))\n",
    "token = box.authenticate(Credentials(None))\n",
    "\n",
    "N = 10\n",
    "for i in range(N):\n",
    "    atoms = bulk('Si', crystalstructure='diamond', a=5.43, cubic=True)\n",
    "    atoms.rattle()\n",
    "\n",
    "    # simulate a calculation with random results\n",
    "    e = np.random.uniform()\n",
    "    f = np.random.uniform(size=3*len(atoms)).reshape((len(atoms), 3))\n",
    "    s = np.random.uniform(size=9).reshape((3, 3))\n",
    "    calc = SinglePointCalculator(atoms, energy=e, forces=f, stress=s)\n",
    "    atoms.set_calculator(calc)\n",
    "    f = atoms.get_forces()\n",
    "    e = atoms.get_potential_energy()\n",
    "\n",
    "    # add some arbitrary data\n",
    "    atoms.info['integer_info'] = 42\n",
    "    atoms.info['real_info'] = 217\n",
    "    atoms.info['config_type'] = 'diamond'\n",
    "    atoms.new_array('array_data', np.ones_like(atoms.numbers))\n",
    "    \n",
    "    box.insert(token, atoms)"
   ]
  },
  {
   "cell_type": "markdown",
   "metadata": {},
   "source": [
    "### Use ase-db to display the created database"
   ]
  },
  {
   "cell_type": "code",
   "execution_count": 38,
   "metadata": {
    "collapsed": false,
    "scrolled": false
   },
   "outputs": [
    {
     "name": "stdout",
     "output_type": "stream",
     "text": [
      "id|age|user   |formula|calculator|energy| fmax|pbc| volume|charge|   mass| smax\r\n",
      " 1| 3s|patrick|Si8    |unknown   | 0.782|1.354|TTT|160.103| 0.000|224.684|0.882\r\n",
      " 2| 3s|patrick|Si8    |unknown   | 0.241|1.180|TTT|160.103| 0.000|224.684|0.788\r\n",
      " 3| 3s|patrick|Si8    |unknown   | 0.323|1.338|TTT|160.103| 0.000|224.684|0.969\r\n",
      " 4| 3s|patrick|Si8    |unknown   | 0.656|1.313|TTT|160.103| 0.000|224.684|0.856\r\n",
      " 5| 3s|patrick|Si8    |unknown   | 0.086|1.281|TTT|160.103| 0.000|224.684|0.751\r\n",
      " 6| 3s|patrick|Si8    |unknown   | 0.164|1.090|TTT|160.103| 0.000|224.684|0.868\r\n",
      " 7| 3s|patrick|Si8    |unknown   | 0.967|1.483|TTT|160.103| 0.000|224.684|0.692\r\n",
      " 8| 2s|patrick|Si8    |unknown   | 0.875|1.385|TTT|160.103| 0.000|224.684|0.823\r\n",
      " 9| 2s|patrick|Si8    |unknown   | 0.659|1.463|TTT|160.103| 0.000|224.684|0.924\r\n",
      "10| 2s|patrick|Si8    |unknown   | 0.737|1.346|TTT|160.103| 0.000|224.684|0.921\r\n",
      "Rows: 10\r\n",
      "Keys: config_type, integer_info, real_info\r\n"
     ]
    }
   ],
   "source": [
    "!ase-db ~/databases/all/$db"
   ]
  },
  {
   "cell_type": "markdown",
   "metadata": {},
   "source": [
    "###Query the database and get Atoms objects back"
   ]
  },
  {
   "cell_type": "code",
   "execution_count": 45,
   "metadata": {
    "collapsed": false
   },
   "outputs": [
    {
     "name": "stdout",
     "output_type": "stream",
     "text": [
      "Atoms(symbols='Si8', array_data=..., positions=..., cell=[5.43, 5.43, 5.43], pbc=[True, True, True], calculator=SinglePointCalculator(...))\n",
      "Atoms(symbols='Si8', array_data=..., positions=..., cell=[5.43, 5.43, 5.43], pbc=[True, True, True], calculator=SinglePointCalculator(...))\n",
      "Atoms(symbols='Si8', array_data=..., positions=..., cell=[5.43, 5.43, 5.43], pbc=[True, True, True], calculator=SinglePointCalculator(...))\n",
      "Atoms(symbols='Si8', array_data=..., positions=..., cell=[5.43, 5.43, 5.43], pbc=[True, True, True], calculator=SinglePointCalculator(...))\n",
      "Atoms(symbols='Si8', array_data=..., positions=..., cell=[5.43, 5.43, 5.43], pbc=[True, True, True], calculator=SinglePointCalculator(...))\n",
      "\n",
      "Found 5 structures\n"
     ]
    }
   ],
   "source": [
    "count = 0\n",
    "for i in box.find(token, 'energy>0.5', limit=5, sort='energy'):\n",
    "    print(i)\n",
    "    count += 1\n",
    "print '\\nFound', count, 'structures'"
   ]
  },
  {
   "cell_type": "markdown",
   "metadata": {},
   "source": [
    "### Copy all atoms with id greater than 7"
   ]
  },
  {
   "cell_type": "code",
   "execution_count": 40,
   "metadata": {
    "collapsed": false
   },
   "outputs": [
    {
     "name": "stdout",
     "output_type": "stream",
     "text": [
      "Copied 3 structures\n"
     ]
    }
   ],
   "source": [
    "# Copy all Atoms structures with id greater than 7\n",
    "atoms_it = box.find(token, 'id>7')\n",
    "atoms = [at for at in atoms_it]\n",
    "print 'Copied', len(atoms), 'structures'"
   ]
  },
  {
   "cell_type": "markdown",
   "metadata": {},
   "source": [
    "### Delete them from the database"
   ]
  },
  {
   "cell_type": "code",
   "execution_count": 41,
   "metadata": {
    "collapsed": false
   },
   "outputs": [
    {
     "name": "stdout",
     "output_type": "stream",
     "text": [
      "Deleted 3 rows\n"
     ]
    }
   ],
   "source": [
    "res = box.remove(token, 'id>7', just_one=False)\n",
    "print res.msg"
   ]
  },
  {
   "cell_type": "code",
   "execution_count": 42,
   "metadata": {
    "collapsed": false
   },
   "outputs": [
    {
     "name": "stdout",
     "output_type": "stream",
     "text": [
      "id|age|user   |formula|calculator|energy| fmax|pbc| volume|charge|   mass| smax|real_info|integer_info|config_type\r\n",
      " 1|14s|patrick|Si8    |unknown   | 0.782|1.354|TTT|160.103| 0.000|224.684|0.882|      217|          42|diamond    \r\n",
      " 2|14s|patrick|Si8    |unknown   | 0.241|1.180|TTT|160.103| 0.000|224.684|0.788|      217|          42|diamond    \r\n",
      " 3|14s|patrick|Si8    |unknown   | 0.323|1.338|TTT|160.103| 0.000|224.684|0.969|      217|          42|diamond    \r\n",
      " 4|14s|patrick|Si8    |unknown   | 0.656|1.313|TTT|160.103| 0.000|224.684|0.856|      217|          42|diamond    \r\n",
      " 5|14s|patrick|Si8    |unknown   | 0.086|1.281|TTT|160.103| 0.000|224.684|0.751|      217|          42|diamond    \r\n",
      " 6|14s|patrick|Si8    |unknown   | 0.164|1.090|TTT|160.103| 0.000|224.684|0.868|      217|          42|diamond    \r\n",
      " 7|14s|patrick|Si8    |unknown   | 0.967|1.483|TTT|160.103| 0.000|224.684|0.692|      217|          42|diamond    \r\n",
      "Rows: 7\r\n",
      "Keys: config_type, integer_info, real_info\r\n"
     ]
    }
   ],
   "source": [
    "!ase-db ~/databases/all/test.db -c ++"
   ]
  },
  {
   "cell_type": "markdown",
   "metadata": {},
   "source": [
    "### Insert the copies back into the database"
   ]
  },
  {
   "cell_type": "code",
   "execution_count": 43,
   "metadata": {
    "collapsed": false
   },
   "outputs": [
    {
     "name": "stdout",
     "output_type": "stream",
     "text": [
      "Inserted 3 configurations at ids [11, 12, 13]\n"
     ]
    }
   ],
   "source": [
    "res = box.insert(token, atoms)\n",
    "print res.msg, 'at ids', res.inserted_ids"
   ]
  },
  {
   "cell_type": "code",
   "execution_count": 46,
   "metadata": {
    "collapsed": false
   },
   "outputs": [
    {
     "name": "stdout",
     "output_type": "stream",
     "text": [
      "id|age|user   |formula|calculator|energy| fmax|pbc| volume|charge|   mass| smax|real_info|integer_info|config_type\r\n",
      " 1|25s|patrick|Si8    |unknown   | 0.782|1.354|TTT|160.103| 0.000|224.684|0.882|      217|          42|diamond    \r\n",
      " 2|25s|patrick|Si8    |unknown   | 0.241|1.180|TTT|160.103| 0.000|224.684|0.788|      217|          42|diamond    \r\n",
      " 3|25s|patrick|Si8    |unknown   | 0.323|1.338|TTT|160.103| 0.000|224.684|0.969|      217|          42|diamond    \r\n",
      " 4|25s|patrick|Si8    |unknown   | 0.656|1.313|TTT|160.103| 0.000|224.684|0.856|      217|          42|diamond    \r\n",
      " 5|25s|patrick|Si8    |unknown   | 0.086|1.281|TTT|160.103| 0.000|224.684|0.751|      217|          42|diamond    \r\n",
      " 6|25s|patrick|Si8    |unknown   | 0.164|1.090|TTT|160.103| 0.000|224.684|0.868|      217|          42|diamond    \r\n",
      " 7|25s|patrick|Si8    |unknown   | 0.967|1.483|TTT|160.103| 0.000|224.684|0.692|      217|          42|diamond    \r\n",
      "11|10s|patrick|Si8    |unknown   | 0.875|1.385|TTT|160.103| 0.000|224.684|0.823|      217|          42|diamond    \r\n",
      "12|10s|patrick|Si8    |unknown   | 0.659|1.463|TTT|160.103| 0.000|224.684|0.924|      217|          42|diamond    \r\n",
      "13|10s|patrick|Si8    |unknown   | 0.737|1.346|TTT|160.103| 0.000|224.684|0.921|      217|          42|diamond    \r\n",
      "Rows: 10\r\n",
      "Keys: config_type, integer_info, real_info\r\n"
     ]
    }
   ],
   "source": [
    "!ase-db ~/databases/all/test.db -c ++"
   ]
  },
  {
   "cell_type": "code",
   "execution_count": null,
   "metadata": {
    "collapsed": true
   },
   "outputs": [],
   "source": []
  }
 ],
 "metadata": {
  "kernelspec": {
   "display_name": "Python 2",
   "language": "python",
   "name": "python2"
  },
  "language_info": {
   "codemirror_mode": {
    "name": "ipython",
    "version": 2
   },
   "file_extension": ".py",
   "mimetype": "text/x-python",
   "name": "python",
   "nbconvert_exporter": "python",
   "pygments_lexer": "ipython2",
   "version": "2.7.6"
  }
 },
 "nbformat": 4,
 "nbformat_minor": 0
}
