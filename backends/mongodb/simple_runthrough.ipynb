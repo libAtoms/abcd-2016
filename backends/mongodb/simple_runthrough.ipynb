{
 "metadata": {
  "name": ""
 },
 "nbformat": 3,
 "nbformat_minor": 0,
 "worksheets": [
  {
   "cells": [
    {
     "cell_type": "code",
     "collapsed": false,
     "input": [
      "import numpy as np\n",
      "from ase.lattice import bulk\n",
      "from ase.calculators.singlepoint import SinglePointCalculator\n",
      "\n",
      "from abcd.structurebox import StructureBox\n",
      "from abcd.authentication import Credentials\n",
      "import mongobackend.mongobackend as mongobackend\n",
      "\n",
      "\n",
      "box = StructureBox(mongobackend.MongoDBBackend('localhost', 27017))\n",
      "token = box.authenticate(Credentials('martin'))\n",
      "\n",
      "box.remove(token, {}, False)\n",
      "\n",
      "N = 10\n",
      "for i in range(N):\n",
      "    atoms = bulk('Si', crystalstructure='diamond', a=5.43, cubic=True)\n",
      "    atoms.rattle()\n",
      "\n",
      "    # simulate a calculation with random results\n",
      "    e = np.random.uniform()\n",
      "    f = np.random.uniform(size=3*len(atoms)).reshape((len(atoms), 3))\n",
      "    s = np.random.uniform(size=9).reshape((3, 3))\n",
      "    calc = SinglePointCalculator(atoms, energy=e, forces=f, stress=s)\n",
      "    atoms.set_calculator(calc)\n",
      "    f = atoms.get_forces()\n",
      "    e = atoms.get_potential_energy()\n",
      "\n",
      "    # add some arbitrary data\n",
      "    atoms.info['integer_info'] = 42\n",
      "    atoms.info['real_info'] = 217\n",
      "    atoms.info['config_type'] = 'diamond'\n",
      "    atoms.new_array('array_data', np.ones_like(atoms.numbers))\n",
      "    \n",
      "    box.insert(token, atoms)\n",
      "\n",
      "\n",
      "for i in box.find(token, {\"calculator\": \"unknown\"}):\n",
      "    print(i)"
     ],
     "language": "python",
     "metadata": {},
     "outputs": [
      {
       "output_type": "stream",
       "stream": "stdout",
       "text": [
        "Atoms(symbols='Si8', positions=..., cell=[5.43, 5.43, 5.43], pbc=[True, True, True], calculator=SinglePointCalculator(...))\n",
        "Atoms(symbols='Si8', positions=..., cell=[5.43, 5.43, 5.43], pbc=[True, True, True], calculator=SinglePointCalculator(...))\n",
        "Atoms(symbols='Si8', positions=..., cell=[5.43, 5.43, 5.43], pbc=[True, True, True], calculator=SinglePointCalculator(...))\n",
        "Atoms(symbols='Si8', positions=..., cell=[5.43, 5.43, 5.43], pbc=[True, True, True], calculator=SinglePointCalculator(...))\n",
        "Atoms(symbols='Si8', positions=..., cell=[5.43, 5.43, 5.43], pbc=[True, True, True], calculator=SinglePointCalculator(...))\n",
        "Atoms(symbols='Si8', positions=..., cell=[5.43, 5.43, 5.43], pbc=[True, True, True], calculator=SinglePointCalculator(...))\n",
        "Atoms(symbols='Si8', positions=..., cell=[5.43, 5.43, 5.43], pbc=[True, True, True], calculator=SinglePointCalculator(...))\n",
        "Atoms(symbols='Si8', positions=..., cell=[5.43, 5.43, 5.43], pbc=[True, True, True], calculator=SinglePointCalculator(...))\n",
        "Atoms(symbols='Si8', positions=..., cell=[5.43, 5.43, 5.43], pbc=[True, True, True], calculator=SinglePointCalculator(...))\n",
        "Atoms(symbols='Si8', positions=..., cell=[5.43, 5.43, 5.43], pbc=[True, True, True], calculator=SinglePointCalculator(...))\n"
       ]
      }
     ],
     "prompt_number": 1
    },
    {
     "cell_type": "code",
     "collapsed": false,
     "input": [],
     "language": "python",
     "metadata": {},
     "outputs": []
    },
    {
     "cell_type": "code",
     "collapsed": false,
     "input": [],
     "language": "python",
     "metadata": {},
     "outputs": []
    },
    {
     "cell_type": "code",
     "collapsed": false,
     "input": [],
     "language": "python",
     "metadata": {},
     "outputs": []
    }
   ],
   "metadata": {}
  }
 ]
}