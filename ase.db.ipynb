{
 "cells": [
  {
   "cell_type": "markdown",
   "metadata": {},
   "source": [
    "# Getting `ase.db` to do what we want\n",
    "\n",
    "James Kermode, June 2015\n",
    "\n",
    "The [ASE database module](https://wiki.fysik.dtu.dk/ase/ase/db/db.html) is a lightweight way to store atomic configurations. However, it doesn't yet support all the features we would like, namely:\n",
    "\n",
    " * No support for storing original output files from calculations along with records\n",
    " * No command line tool for extracting configurations to files\n",
    " * No easy way to include arbitrary per-frame and per-atom data\n",
    "\n",
    "I've extended `ase.db.core.Database.write()`, `ase.db.row.AtomsRow.toatoms()` to allow all data to be read from the `Atoms.info` and `Atoms.arrays` dictionaries, and added some new command line options to `ase-db` to do what we need:\n",
    "\n",
    " * `-o/--store-original-file` - attach original input to database record as a string in the `data` section\n",
    " * `-x/--extract-original-file` - attach original input to database record as a string in the `data` section\n",
    "\n",
    " * `-W/--write-to-file [type]:filename` - write rows matching a query to files, optionallly specifiying format\n",
    " * `-A/--all-data` - include contents of `atoms.info` (per-frame dictionary) and `atoms.arrays` (per-atom dictionary) in database records"
   ]
  },
  {
   "cell_type": "markdown",
   "metadata": {},
   "source": [
    "## Generate some dummy data"
   ]
  },
  {
   "cell_type": "code",
   "execution_count": 41,
   "metadata": {
    "collapsed": false
   },
   "outputs": [],
   "source": [
    "import glob\n",
    "import numpy as np\n",
    "from ase.io import read, write\n",
    "from ase.lattice import bulk\n",
    "from ase.calculators.singlepoint import SinglePointCalculator\n",
    "\n",
    "N = 10\n",
    "\n",
    "!rm dump*.xyz dump*.cif\n",
    "for i in range(N):\n",
    "    atoms = bulk('Si', crystalstructure='diamond', a=5.43, cubic=True)\n",
    "    atoms.rattle()\n",
    "\n",
    "    # simulate a calculation with random results\n",
    "    e = np.random.uniform()\n",
    "    f = np.random.uniform(size=3*len(atoms)).reshape((len(atoms), 3))\n",
    "    s = np.random.uniform(size=9).reshape((3, 3))\n",
    "    calc = SinglePointCalculator(atoms, energy=e, forces=f, stress=s)\n",
    "    atoms.set_calculator(calc)\n",
    "    f = atoms.get_forces()\n",
    "    e = atoms.get_potential_energy()\n",
    "\n",
    "    # add some arbitrary data\n",
    "    atoms.info['integer_info'] = 42\n",
    "    atoms.info['real_info'] = 217\n",
    "    atoms.info['config_type'] = 'diamond'\n",
    "    atoms.new_array('array_data', np.ones_like(atoms.numbers))\n",
    "\n",
    "    atoms.write('dump_%03d.xyz' % i, format='extxyz')"
   ]
  },
  {
   "cell_type": "markdown",
   "metadata": {},
   "source": [
    "## Make a `.db` file and add our `.xyz` files, attaching original files with `-o`"
   ]
  },
  {
   "cell_type": "code",
   "execution_count": 42,
   "metadata": {
    "collapsed": false
   },
   "outputs": [
    {
     "name": "stdout",
     "output_type": "stream",
     "text": [
      "Added Si8 from dump_000.xyz\n",
      "Added Si8 from dump_001.xyz\n",
      "Added Si8 from dump_002.xyz\n",
      "Added Si8 from dump_003.xyz\n",
      "Added Si8 from dump_004.xyz\n",
      "Added Si8 from dump_005.xyz\n",
      "Added Si8 from dump_006.xyz\n",
      "Added Si8 from dump_007.xyz\n",
      "Added Si8 from dump_008.xyz\n",
      "Added Si8 from dump_009.xyz\n"
     ]
    }
   ],
   "source": [
    "!rm -f tmp.db\n",
    "for addfile in glob.glob(\"dump*.xyz\"):\n",
    "    !ase-db tmp.db -Aoa $addfile"
   ]
  },
  {
   "cell_type": "code",
   "execution_count": 43,
   "metadata": {
    "collapsed": false
   },
   "outputs": [
    {
     "name": "stdout",
     "output_type": "stream",
     "text": [
      "id|age|user        |formula|calculator|energy| fmax|pbc| volume|charge|   mass| smax\r\n",
      " 1| 4s|jameskermode|Si8    |unknown   | 0.024|1.177|TTT|160.103| 0.000|224.684|0.942\r\n",
      " 2| 4s|jameskermode|Si8    |unknown   | 0.855|1.506|TTT|160.103| 0.000|224.684|0.986\r\n",
      " 3| 4s|jameskermode|Si8    |unknown   | 0.410|1.362|TTT|160.103| 0.000|224.684|0.918\r\n",
      " 4| 4s|jameskermode|Si8    |unknown   | 0.973|1.401|TTT|160.103| 0.000|224.684|0.920\r\n",
      " 5| 3s|jameskermode|Si8    |unknown   | 0.538|1.309|TTT|160.103| 0.000|224.684|0.965\r\n",
      " 6| 3s|jameskermode|Si8    |unknown   | 0.221|1.458|TTT|160.103| 0.000|224.684|0.993\r\n",
      " 7| 3s|jameskermode|Si8    |unknown   | 0.529|1.335|TTT|160.103| 0.000|224.684|0.826\r\n",
      " 8| 3s|jameskermode|Si8    |unknown   | 0.568|1.214|TTT|160.103| 0.000|224.684|0.951\r\n",
      " 9| 2s|jameskermode|Si8    |unknown   | 0.460|1.214|TTT|160.103| 0.000|224.684|0.873\r\n",
      "10| 2s|jameskermode|Si8    |unknown   | 0.741|1.253|TTT|160.103| 0.000|224.684|0.782\r\n",
      "Rows: 10\r\n",
      "Keys: config_type, integer_info, original_file_name, real_info\r\n"
     ]
    }
   ],
   "source": [
    "!ase-db tmp.db"
   ]
  },
  {
   "cell_type": "markdown",
   "metadata": {},
   "source": [
    "## Extract records from database in various file formats\n",
    "\n",
    "* First, let's dump record #1 in `POSCAR` format"
   ]
  },
  {
   "cell_type": "code",
   "execution_count": 44,
   "metadata": {
    "collapsed": false
   },
   "outputs": [
    {
     "name": "stdout",
     "output_type": "stream",
     "text": [
      "Si \r\n",
      " 1.0000000000000000\r\n",
      "     5.4299999999999997    0.0000000000000000    0.0000000000000000\r\n",
      "     0.0000000000000000    5.4299999999999997    0.0000000000000000\r\n",
      "     0.0000000000000000    0.0000000000000000    5.4299999999999997\r\n",
      "   8\r\n",
      "Cartesian\r\n",
      "  0.0004967100000000 -0.0001382600000000  0.0006476900000000\r\n",
      "  1.3590230299999999  1.3572658500000001  1.3572658600000000\r\n",
      "  0.0015792100000000  2.7157674300000001  2.7145305300000002\r\n",
      "  1.3580425599999999  4.0720365799999998  4.0720342699999996\r\n",
      "  2.7152419600000002 -0.0019132800000000  2.7132750799999998\r\n",
      "  4.0719377100000003  1.3564871700000001  4.0728142500000004\r\n",
      "  2.7140919800000001  2.7135877000000002  0.0014656500000000\r\n",
      "  4.0722742199999997  4.0725675299999997  1.3560752500000000\r\n",
      "Wrote 1 rows.\r\n"
     ]
    }
   ],
   "source": [
    "!ase-db tmp.db 1 -W vasp:-"
   ]
  },
  {
   "cell_type": "markdown",
   "metadata": {},
   "source": [
    "* Now, we extract the same record in extended XYZ format, including all the additional data (`-A` option)"
   ]
  },
  {
   "cell_type": "code",
   "execution_count": 45,
   "metadata": {
    "collapsed": false
   },
   "outputs": [
    {
     "name": "stdout",
     "output_type": "stream",
     "text": [
      "8\r\n",
      "Lattice=\"5.43 0.0 0.0 0.0 5.43 0.0 0.0 0.0 5.43\" Properties=species:S:1:pos:R:3:array_data:I:1:Z:I:1:forces:R:3 stress=\"0.796071140077 0.874200025244 0.664711001956 0.879650083717 0.249105884066 0.00529155715579 0.226770606161 0.942011627316 0.638690883362\" original_file_name=dump_000.xyz integer_info=42 real_info=217 pbc=\"T T T\" energy=0.0244401372704 config_type=diamond unique_id=abad1499a4d532f5ac7afba9ae16029a\r\n",
      "Si      0.00049671      -0.00013826       0.00064769        1       14       0.66676912       0.45667764       0.29363953 \r\n",
      "Si      1.35902303       1.35726585       1.35726586        1       14       0.74198155       0.69267489       0.59521078 \r\n",
      "Si      0.00157921       2.71576743       2.71453053        1       14       0.41062755       0.13588458       0.82468071 \r\n",
      "Si      1.35804256       4.07203658       4.07203427        1       14       0.56795887       0.10382025       0.04625466 \r\n",
      "Si      2.71524196      -0.00191328       2.71327508        1       14       0.73703932       0.86027750       0.28798245 \r\n",
      "Si      4.07193771       1.35648717       4.07281425        1       14       0.05509609       0.58233434       0.83875057 \r\n",
      "Si      2.71409198       2.71358770       0.00146565        1       14       0.26801142       0.57668231       0.40647142 \r\n",
      "Si      4.07227422       4.07256753       1.35607525        1       14       0.72488202       0.56658420       0.22294321 \r\n",
      "Wrote 1 rows.\r\n"
     ]
    }
   ],
   "source": [
    "!ase-db tmp.db 1 -AW -"
   ]
  },
  {
   "cell_type": "markdown",
   "metadata": {},
   "source": [
    " * A more complicated query - we extract all configs with `energy<0.7` and write to separate CIF files"
   ]
  },
  {
   "cell_type": "code",
   "execution_count": 46,
   "metadata": {
    "collapsed": false
   },
   "outputs": [
    {
     "name": "stdout",
     "output_type": "stream",
     "text": [
      "Wrote 3 rows.\n",
      "dump_00.cif dump_01.cif dump_02.cif\n"
     ]
    }
   ],
   "source": [
    "!ase-db tmp.db 'energy>0.7' -W dump_%02d.cif\n",
    "!ls dump*.cif"
   ]
  },
  {
   "cell_type": "markdown",
   "metadata": {},
   "source": [
    "## Recover original files with `-x` argument"
   ]
  },
  {
   "cell_type": "code",
   "execution_count": 51,
   "metadata": {
    "collapsed": false
   },
   "outputs": [
    {
     "name": "stdout",
     "output_type": "stream",
     "text": [
      "Writing dump_000.xyz\n",
      "Writing dump_001.xyz\n",
      "Writing dump_002.xyz\n",
      "Writing dump_003.xyz\n",
      "Writing dump_004.xyz\n",
      "Writing dump_005.xyz\n",
      "Writing dump_006.xyz\n",
      "Writing dump_007.xyz\n",
      "Writing dump_008.xyz\n",
      "Writing dump_009.xyz\n",
      "Extracted original output files for 10/10 selected rows\n",
      "dump_000.xyz dump_001.xyz dump_002.xyz dump_003.xyz dump_004.xyz dump_005.xyz dump_006.xyz dump_007.xyz dump_008.xyz dump_009.xyz\n",
      "8\n",
      "Lattice=\"5.43 0.0 0.0 0.0 5.43 0.0 0.0 0.0 5.43\" Properties=species:S:1:pos:R:3:array_data:I:1:Z:I:1:forces:R:3 stress=\"0.796071140077 0.879650083717 0.226770606161 0.874200025244 0.249105884066 0.942011627316 0.664711001956 0.00529155715579 0.638690883362\" energy=0.0244401372704 config_type=diamond real_info=217 integer_info=42 pbc=\"T T T\"\n",
      "Si      0.00049671      -0.00013826       0.00064769        1       14       0.66676912       0.45667764       0.29363953 \n",
      "Si      1.35902303       1.35726585       1.35726586        1       14       0.74198155       0.69267489       0.59521078 \n",
      "Si      0.00157921       2.71576743       2.71453053        1       14       0.41062755       0.13588458       0.82468071 \n",
      "Si      1.35804256       4.07203658       4.07203427        1       14       0.56795887       0.10382025       0.04625466 \n",
      "Si      2.71524196      -0.00191328       2.71327508        1       14       0.73703932       0.86027750       0.28798245 \n",
      "Si      4.07193771       1.35648717       4.07281425        1       14       0.05509609       0.58233434       0.83875057 \n",
      "Si      2.71409198       2.71358770       0.00146565        1       14       0.26801142       0.57668231       0.40647142 \n",
      "Si      4.07227422       4.07256753       1.35607525        1       14       0.72488202       0.56658420       0.22294321 \n"
     ]
    }
   ],
   "source": [
    "!rm -f dump*.xyz\n",
    "!ase-db tmp.db -x\n",
    "!ls dump*.xyz\n",
    "!cat dump_000.xyz"
   ]
  },
  {
   "cell_type": "markdown",
   "metadata": {},
   "source": [
    "## Access via the Python API"
   ]
  },
  {
   "cell_type": "code",
   "execution_count": 50,
   "metadata": {
    "collapsed": false
   },
   "outputs": [
    {
     "name": "stdout",
     "output_type": "stream",
     "text": [
      "Atoms(symbols='Si8', array_data=..., positions=..., cell=[5.43, 5.43, 5.43], pbc=[True, True, True], calculator=SinglePointCalculator(...)) original_file dump_000.xyz\n"
     ]
    }
   ],
   "source": [
    "from ase.db import connect\n",
    "con = connect('tmp.db')\n",
    "for row in con.select('id=1'):\n",
    "    atoms = row.toatoms(add_to_info_and_arrays=True)\n",
    "    print atoms, 'original_file', atoms.info['original_file_name']"
   ]
  }
 ],
 "metadata": {
  "kernelspec": {
   "display_name": "Python 2",
   "language": "python",
   "name": "python2"
  },
  "language_info": {
   "codemirror_mode": {
    "name": "ipython",
    "version": 2
   },
   "file_extension": ".py",
   "mimetype": "text/x-python",
   "name": "python",
   "nbconvert_exporter": "python",
   "pygments_lexer": "ipython2",
   "version": "2.7.10"
  }
 },
 "nbformat": 4,
 "nbformat_minor": 0
}
